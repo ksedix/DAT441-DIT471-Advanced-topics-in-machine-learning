{
 "cells": [
  {
   "cell_type": "markdown",
   "metadata": {
    "id": "PVz5yYqPTc52"
   },
   "source": [
    "# Deep Reinforcement Learning Assignment"
   ]
  },
  {
   "cell_type": "markdown",
   "metadata": {
    "id": "VnYHyXPTTc53"
   },
   "source": [
    "This assignment should be done in groups of 2 or 3 (preferably 3).\n",
    "\n",
    "This assignment consists of two parts. In the first part, your task is to solve a grid world environment using the REINFORCE algorithm. In the second part, your task is to balance a pendulum attached to a cart such that it stays upright. You will implement the A2C algorithm that will learn a control policy for the cart."
   ]
  },
  {
   "cell_type": "markdown",
   "metadata": {
    "id": "Hu_U6kX1Tc54"
   },
   "source": [
    "## Imports\n",
    "Imports required packages. Add additional packages if needed."
   ]
  },
  {
   "cell_type": "code",
   "execution_count": null,
   "metadata": {
    "colab": {
     "base_uri": "https://localhost:8080/"
    },
    "id": "8pG6J1XyUlN4",
    "outputId": "0c151820-a7d1-475c-8eab-f13b99328646"
   },
   "outputs": [
    {
     "name": "stdout",
     "output_type": "stream",
     "text": [
      "Collecting gymnasium\n",
      "  Downloading gymnasium-1.0.0-py3-none-any.whl.metadata (9.5 kB)\n",
      "Requirement already satisfied: numpy>=1.21.0 in /usr/local/lib/python3.10/dist-packages (from gymnasium) (1.26.4)\n",
      "Requirement already satisfied: cloudpickle>=1.2.0 in /usr/local/lib/python3.10/dist-packages (from gymnasium) (3.1.0)\n",
      "Requirement already satisfied: typing-extensions>=4.3.0 in /usr/local/lib/python3.10/dist-packages (from gymnasium) (4.12.2)\n",
      "Collecting farama-notifications>=0.0.1 (from gymnasium)\n",
      "  Downloading Farama_Notifications-0.0.4-py3-none-any.whl.metadata (558 bytes)\n",
      "Downloading gymnasium-1.0.0-py3-none-any.whl (958 kB)\n",
      "\u001b[2K   \u001b[90m━━━━━━━━━━━━━━━━━━━━━━━━━━━━━━━━━━━━━━━━\u001b[0m \u001b[32m958.1/958.1 kB\u001b[0m \u001b[31m15.3 MB/s\u001b[0m eta \u001b[36m0:00:00\u001b[0m\n",
      "\u001b[?25hDownloading Farama_Notifications-0.0.4-py3-none-any.whl (2.5 kB)\n",
      "Installing collected packages: farama-notifications, gymnasium\n",
      "Successfully installed farama-notifications-0.0.4 gymnasium-1.0.0\n"
     ]
    }
   ],
   "source": [
    "!pip install gymnasium"
   ]
  },
  {
   "cell_type": "code",
   "execution_count": 2,
   "metadata": {
    "id": "y1Cw2rm0Tc54"
   },
   "outputs": [],
   "source": [
    "import gymnasium as gym\n",
    "import numpy as np\n",
    "\n",
    "import torch\n",
    "\n",
    "import tqdm\n",
    "\n",
    "import matplotlib.pyplot as plt\n",
    "from matplotlib.table import Table"
   ]
  },
  {
   "cell_type": "markdown",
   "metadata": {
    "id": "zjNxpvkqTc55"
   },
   "source": [
    "# Part 1: GridWorld with REINFORCE (9 pts)\n",
    "Firstly, you will implement REINFORCE in the GridWorld environment. The agent starts from the center, and the four actions left, right, up and down move the agent in the appropriate directions deterministically. The corner states are terminal and have the corresponding rewards.\n",
    "\n",
    "**In this part, you should only use `numpy` operations (i.e., no automated differentiation with PyTorch).**"
   ]
  },
  {
   "cell_type": "markdown",
   "metadata": {
    "id": "zZJkzHQITc55"
   },
   "source": [
    "### The GridWorld Environment"
   ]
  },
  {
   "cell_type": "markdown",
   "metadata": {
    "id": "xkqsMMRvTc55"
   },
   "source": [
    "We already provide a basic implementation of the grid world environment which you will use,\n",
    "as well as the constants `ACTION_LEFT, ACTION_RIGHT, ACTION_UP, ACTION_DOWN`.\n",
    "You do not need to modify the class `GridWorld`."
   ]
  },
  {
   "cell_type": "code",
   "execution_count": 2,
   "metadata": {
    "id": "JbhdnPurTc55"
   },
   "outputs": [],
   "source": [
    "#DO NOT MOIFY\n",
    "ACTION_LEFT = 0\n",
    "ACTION_RIGHT = 1\n",
    "ACTION_UP = 2\n",
    "ACTION_DOWN = 3\n",
    "\n",
    "def clip(x, a, b):\n",
    "    if x < a:\n",
    "        return a\n",
    "    if x > b:\n",
    "        return b\n",
    "\n",
    "    return x\n",
    "\n",
    "class GridWorld:\n",
    "\n",
    "    def __init__(self, size=3):\n",
    "        self.size = size\n",
    "        self.state = [0,0]\n",
    "        self.actions = [ACTION_LEFT, ACTION_RIGHT, ACTION_UP, ACTION_DOWN]\n",
    "\n",
    "    def reset_world(self):\n",
    "        self.state = [0,0]\n",
    "\n",
    "    def is_terminal(self):\n",
    "        return abs(self.state[0]) == self.size and abs(self.state[1]) == self.size\n",
    "\n",
    "    def get_current_reward(self):\n",
    "        if self.state == [self.size, self.size] or \\\n",
    "           self.state == [-self.size, -self.size]:\n",
    "            return -1\n",
    "        elif self.state == [-self.size, self.size] or \\\n",
    "             self.state == [self.size, -self.size]:\n",
    "            return +1\n",
    "        else:\n",
    "            return 0\n",
    "\n",
    "    def list_actions(self):\n",
    "        return self.actions\n",
    "\n",
    "    def step(self, action):\n",
    "        if action not in self.actions:\n",
    "            raise NotImplementedError(\"Action not defined\")\n",
    "\n",
    "        if self.is_terminal():\n",
    "            raise NotImplementedError(\"Epsiode terminated! Call reset_world first.\")\n",
    "\n",
    "        if action == ACTION_LEFT:\n",
    "            self.state[0] = clip(self.state[0]-1, -self.size, self.size)\n",
    "\n",
    "        elif action == ACTION_RIGHT:\n",
    "            self.state[0] = clip(self.state[0]+1, -self.size, self.size)\n",
    "\n",
    "        elif action == ACTION_UP:\n",
    "            self.state[1] = clip(self.state[1]+1, -self.size, self.size)\n",
    "\n",
    "        elif action == ACTION_DOWN:\n",
    "            self.state[1] = clip(self.state[1]-1, -self.size, self.size)\n",
    "\n",
    "    def get_coordinates(self):\n",
    "        s = np.array(self.state)\n",
    "        s[0] = s[0] + self.size\n",
    "        s[1] = self.size - s[1]\n",
    "\n",
    "        return s\n",
    "\n",
    "    def get_state(self):\n",
    "        return self.get_coordinates()[0] + \\\n",
    "               self.get_coordinates()[1] * (self.size * 2 + 1)\n",
    "\n",
    "    def render_state(self):\n",
    "        N = self.size\n",
    "        x = self.state[0]\n",
    "        y = self.state[1]\n",
    "\n",
    "        fig, ax = plt.subplots(figsize=(5,5))\n",
    "        ax.set_axis_off()\n",
    "\n",
    "        tb = Table(ax, bbox=[0,0, 1, 1])\n",
    "\n",
    "        row_labels = np.arange(2 * N + 1)\n",
    "        col_labels = np.arange(2 * N + 1)\n",
    "        width, height = .5, .5\n",
    "\n",
    "        values = np.zeros((N*2+1, N*2+1))\n",
    "        values[0,0] = values[-1, -1] = 1\n",
    "        values[-1,0] = values[0, -1] = -1\n",
    "\n",
    "        cell_colors = ('white', 'whitesmoke')\n",
    "        font_colors = ('black', 'white')\n",
    "\n",
    "        for (row_idx, col_idx), cell_val in np.ndenumerate(values):\n",
    "            idx = (col_idx + row_idx) % 2\n",
    "            if cell_val !=  0.:\n",
    "                text = \"%.1f\" % cell_val\n",
    "                if cell_val > 0:\n",
    "                    c = \"lightblue\"\n",
    "                else:\n",
    "                    c = \"lightcoral\"\n",
    "            elif row_idx == N and col_idx == N:\n",
    "                text = \"start\"\n",
    "                c = \"antiquewhite\"\n",
    "            else:\n",
    "                text = \"\"\n",
    "                c = cell_colors[idx]\n",
    "\n",
    "            tb.add_cell(row_idx, col_idx, width, height,\n",
    "                        text=text,\n",
    "                        loc='center',\n",
    "                        facecolor=c)\n",
    "\n",
    "        for (row_idx, col_idx), cell_val in np.ndenumerate(values):\n",
    "            idx = (col_idx + row_idx) % 2\n",
    "            tb._cells[(row_idx, col_idx)]._text.set_color(font_colors[idx])\n",
    "\n",
    "        pos = plt.Circle((0.5 + 1/(2 * N + 1) * x, 0.5 + 1/(2 * N + 1) * y + .04), 0.01, color='black')\n",
    "        ax.add_patch(pos)\n",
    "        ax.add_table(tb)"
   ]
  },
  {
   "cell_type": "markdown",
   "metadata": {
    "id": "MLV7yhY8Tc55"
   },
   "source": [
    "You can plot the environment with `render_state()`"
   ]
  },
  {
   "cell_type": "code",
   "execution_count": 3,
   "metadata": {
    "colab": {
     "base_uri": "https://localhost:8080/",
     "height": 422
    },
    "id": "dYbMoNIyTc56",
    "outputId": "df76f23b-22ae-498e-a297-116433872a0d"
   },
   "outputs": [
    {
     "data": {
      "image/png": "[encoded data removed]",
      "text/plain": [
       "<Figure size 360x360 with 1 Axes>"
      ]
     },
     "metadata": {
      "needs_background": "light"
     },
     "output_type": "display_data"
    }
   ],
   "source": [
    "GridWorld().render_state()"
   ]
  },
  {
   "cell_type": "markdown",
   "metadata": {
    "id": "T_HjC002Tc56"
   },
   "source": [
    "The state after the agent takes the action `ACTION_RIGHT`"
   ]
  },
  {
   "cell_type": "code",
   "execution_count": 4,
   "metadata": {
    "colab": {
     "base_uri": "https://localhost:8080/",
     "height": 422
    },
    "id": "efSREDjKTc56",
    "outputId": "495ab7cf-c4c6-4d68-e66d-2fdf01d872fa"
   },
   "outputs": [
    {
     "data": {
      "image/png": "[encoded data removed]",
      "text/plain": [
       "<Figure size 360x360 with 1 Axes>"
      ]
     },
     "metadata": {
      "needs_background": "light"
     },
     "output_type": "display_data"
    }
   ],
   "source": [
    "world = GridWorld()\n",
    "world.reset_world()\n",
    "world.step(ACTION_RIGHT)\n",
    "world.render_state()"
   ]
  },
  {
   "cell_type": "markdown",
   "metadata": {
    "id": "uXFsoLU9Tc56"
   },
   "source": [
    "Cells/states are numbered from 0 to 48, left to right, top to bottom"
   ]
  },
  {
   "cell_type": "code",
   "execution_count": 5,
   "metadata": {
    "colab": {
     "base_uri": "https://localhost:8080/"
    },
    "id": "c0meCeokTc56",
    "outputId": "94ac5b8f-e059-4d75-e12f-02dda9ea73df"
   },
   "outputs": [
    {
     "data": {
      "text/plain": [
       "25"
      ]
     },
     "execution_count": 5,
     "metadata": {},
     "output_type": "execute_result"
    }
   ],
   "source": [
    "world.get_state()"
   ]
  },
  {
   "cell_type": "markdown",
   "metadata": {
    "id": "jaaP9ZtaTc56"
   },
   "source": [
    "For convenience, cells are given coordinates left to right, top to bottom"
   ]
  },
  {
   "cell_type": "code",
   "execution_count": 6,
   "metadata": {
    "colab": {
     "base_uri": "https://localhost:8080/"
    },
    "id": "OrIho5dlTc56",
    "outputId": "13d70ad6-e5dd-433b-e797-a25aa970f369"
   },
   "outputs": [
    {
     "data": {
      "text/plain": [
       "array([4, 3])"
      ]
     },
     "execution_count": 6,
     "metadata": {},
     "output_type": "execute_result"
    }
   ],
   "source": [
    "world.get_coordinates()"
   ]
  },
  {
   "cell_type": "markdown",
   "metadata": {
    "id": "K8sHAL71Tc56"
   },
   "source": [
    "### Direct Parameterization"
   ]
  },
  {
   "cell_type": "markdown",
   "metadata": {
    "id": "aHrQz5dzTc56"
   },
   "source": [
    "In this part, we will define the policy according to an exponential softmax distribution where action preferences are linear using feature vectors \\phi_{s,a}:\n",
    "$$\n",
    "\\pi_\\theta(a|s) = \\frac{\\exp{\\theta^\\top \\phi_{s,a}}}{\\sum_{a'} {\\exp{\\theta^\\top \\phi_{s,a'}}}}\n",
    "$$\n",
    "\n",
    "We will assume that the vectors $\\phi_{s,a} \\in \\mathbb{R}^{|\\mathcal{S}||\\mathcal{A}|}$ are encoded as standard unit basis vectors (i.e., one-hot encoding).\n",
    "First, we will create an appropriate encoding function for the states in GridWorld.\n",
    "\n",
    "For consistency, we assume the actions are mapped to integers with `ACTION_LEFT=0, ACTION_RIGHT=1, ACTION_UP=2, ACTION_DOWN=3`, and the cell states are given values from 0 to 48, starting from left to right, from the top row to the bottom row.\n",
    "Note that `GridWorld.get_state()` implements the correct order on grid cells.\n",
    "$\\phi_{s,a}$ is assumed to be the unit vector with only the entry at position $4\\times s + a$ equal to 1.\n",
    "\n",
    "\n",
    "\n"
   ]
  },
  {
   "cell_type": "markdown",
   "metadata": {
    "id": "3QB4aJ9BTc56"
   },
   "source": [
    "**Task 1.1 (0.5 pt):** Create a function `get_features_onehot` that encodes each $\\phi_{s,a}$ with a one hot encoded vector in $\\mathbb{R}^{|\\mathcal{S}||\\mathcal{A}|} = \\mathbb{R}^{196}$ as a numpy vector."
   ]
  },
  {
   "cell_type": "code",
   "execution_count": 7,
   "metadata": {
    "id": "wHHXtYSSTc56"
   },
   "outputs": [],
   "source": [
    "def get_features_onehot(state:int, action:int):\n",
    "    \"\"\"Given the tuple (x,y) indicating the coordinates on the grid world, return one hot encoded features\n",
    "\n",
    "    Assume actions are numbered from 0 to 3, and states are numbered from 0 to 48\n",
    "    as explained above.\n",
    "    \"\"\"\n",
    "\n",
    "    # TODO: FILL IN YOUR CODE HERE!\n",
    "    feature_vector = np.zeros(196)\n",
    "    feature_vector[4 * state + action] = 1\n",
    "\n",
    "    pass"
   ]
  },
  {
   "cell_type": "markdown",
   "metadata": {
    "id": "ddSwA0ljTc57"
   },
   "source": [
    "**Task 1.2 (0.5 pt):** Implement an initialisation for the parameters $\\theta \\in \\mathbb{R}^{196}$ as a numpy vector that you think is appropriate for efficient exploration."
   ]
  },
  {
   "cell_type": "code",
   "execution_count": 8,
   "metadata": {
    "id": "zdsuejmtTc57"
   },
   "outputs": [],
   "source": [
    "def get_initial_parameters():\n",
    "    \"\"\"Returns vector of size 196 of initial parameters theta\"\"\"\n",
    "    theta = np.random.uniform(-0.1, 0.1, size=196)\n",
    "    return theta\n"
   ]
  },
  {
   "cell_type": "markdown",
   "metadata": {
    "id": "yAKveEsSTc57"
   },
   "source": [
    "**Task 1.3 (2 pts):**\n",
    "Calculate the partial derivatives $\\frac{\\partial \\pi_\\theta(a|s)}{\\partial \\theta}$.\n",
    "First, write down the analytic formula for the derivative *in the Markdown cell below (use LaTeX-math mode for equations, etc.).* Show your computation steps!\n",
    "\n",
    "\n",
    "Then, using your expression fill in `direct_parameterisation_derivative`, that will return the vector $\\frac{\\partial \\pi_\\theta(a|s)}{\\partial \\theta}$ given a value of $\\theta$ and action-state pair $a,s$.\n",
    "\n",
    "**Hint:** For the analytic part, you may write down the formula for $\\frac{\\partial \\pi_\\theta(a|s)}{\\partial \\theta_{a',s'}}$, i.e., the partial derivative with respect to the entry of $\\theta$ corresponding to any action-state pair $a', s'$.\n",
    "\n",
    "**Hint:** The function `direct_parameterisation_derivative` should return a vector of size $4 |S| = 4 \\times 7^2=196$, since you have 4 actions and $7^2$ states.\n",
    "\n",
    "**Hint:** Only 4 entries of $\\frac{\\partial \\pi_\\theta(a|s)}{\\partial \\theta} \\in \\mathbb{R}^{196}$ should be nonzero for fixed $a,s$."
   ]
  },
  {
   "cell_type": "markdown",
   "metadata": {
    "id": "isYjbh6LTc57"
   },
   "source": [
    "# Analytic Derivation of $\\frac{\\partial \\pi_{\\theta}(a \\mid s)}{\\partial \\theta}$\n",
    "\n",
    "The policy is defined as:\n",
    "\n",
    "$$\n",
    "\\pi_{\\theta}(a \\mid s) = \\frac{\\exp(\\theta^\\top \\phi_{s,a})}{\\sum_{a'} \\exp(\\theta^\\top \\phi_{s,a'})}\n",
    "$$\n",
    "\n",
    "Since the feature vectors $\\phi_{s,a}$ are one-hot encoded unit vectors, $\\theta^\\top \\phi_{s,a}$ simplifies to:\n",
    "\n",
    "$$\n",
    "\\theta^\\top \\phi_{s,a} = \\theta_{s,a}\n",
    "$$\n",
    "\n",
    "where $\\theta_{s,a}$ is the component of $\\theta$ corresponding to state $s$ and action $a$.\n",
    "\n",
    "Now, compute the derivative of $\\pi_{\\theta}(a \\mid s)$ with respect to $\\theta_{s',a'}$:\n",
    "\n",
    "- When $s' \\neq s$, $\\pi_{\\theta}(a \\mid s)$ does not depend on $\\theta_{s',a'}$ (since the policy for state $s$ depends only on $\\theta$ parameters corresponding to $s$), so:\n",
    "\n",
    "$$\n",
    "\\frac{\\partial \\pi_{\\theta}(a \\mid s)}{\\partial \\theta_{s',a'}} = 0 \\quad \\text{for} \\quad s' \\neq s\n",
    "$$\n",
    "\n",
    "- When $s' = s$, we have:\n",
    "\n",
    "$$\n",
    "\\frac{\\partial \\pi_{\\theta}(a \\mid s)}{\\partial \\theta_{s,a'}} = \\frac{\\partial}{\\partial \\theta_{s,a'}} \\left( \\frac{\\exp(\\theta_{s,a})}{\\sum_{a''} \\exp(\\theta_{s,a''})} \\right)\n",
    "$$\n",
    "\n",
    "Let $Z(s) = \\sum_{a''} \\exp(\\theta_{s,a''})$. Then:\n",
    "\n",
    "$$\n",
    "\\frac{\\partial \\pi_{\\theta}(a \\mid s)}{\\partial \\theta_{s,a'}} = \\frac{\\exp(\\theta_{s,a})}{Z(s)} \\left( \\delta_{a,a'} - \\pi_{\\theta}(a' \\mid s) \\right)\n",
    "$$\n",
    "\n",
    "Simplifying further using $\\pi_{\\theta}(a \\mid s) = \\frac{\\exp(\\theta_{s,a})}{Z(s)}$:\n",
    "\n",
    "$$\n",
    "\\frac{\\partial \\pi_{\\theta}(a \\mid s)}{\\partial \\theta_{s,a'}} = \\pi_{\\theta}(a \\mid s) \\left( \\delta_{a,a'} - \\pi_{\\theta}(a' \\mid s) \\right)\n",
    "$$\n",
    "\n",
    "where $\\delta_{a,a'}$ is the Kronecker delta function, which is 1 if $a = a'$ and 0 otherwise.\n",
    "\n",
    "Thus, the final expression is:\n",
    "\n",
    "$$\n",
    "\\frac{\\partial \\pi_{\\theta}(a \\mid s)}{\\partial \\theta_{s,a'}} =\n",
    "\\begin{cases}\n",
    "\\pi_{\\theta}(a \\mid s)(1 - \\pi_{\\theta}(a \\mid s)) & \\text{if } a' = a \\\\\n",
    "-\\pi_{\\theta}(a \\mid s) \\pi_{\\theta}(a' \\mid s) & \\text{if } a' \\neq a\n",
    "\\end{cases}\n",
    "$$\n"
   ]
  },
  {
   "cell_type": "code",
   "execution_count": 5,
   "metadata": {
    "id": "b34A3GlYTc57"
   },
   "outputs": [],
   "source": [
    "def direct_parameterisation_gradient(action: int, state: int, theta: np.ndarray):\n",
    "    \"\"\"Returns the partial derivatives of the policy with respect to theta.\n",
    "\n",
    "    Args:\n",
    "        action (int): The action taken in the current state (0 to 3).\n",
    "        state (int): The current state index (0 to 48).\n",
    "        theta (np.ndarray): The parameter vector of size 196.\n",
    "\n",
    "    Returns:\n",
    "        np.ndarray: The gradient vector of size 196.\n",
    "    \"\"\"\n",
    "    # Initialize gradient vector with zeros\n",
    "    grad = np.zeros_like(theta)  # Size 196\n",
    "\n",
    "    # Indices for the current state's parameters in theta\n",
    "    idx_start = 4 * state\n",
    "    idx_end = idx_start + 4\n",
    "\n",
    "    # Extract theta values for the current state s\n",
    "    theta_s = theta[idx_start:idx_end]  # Shape (4,)\n",
    "\n",
    "    # Compute the exponentials exp(θ_{s,a})\n",
    "    exp_theta_s = np.exp(theta_s)\n",
    "\n",
    "    # Compute the partition function Z(s)\n",
    "    Z_s = np.sum(exp_theta_s)\n",
    "\n",
    "    # Compute policy probabilities πθ(a'|s) for all actions\n",
    "    pi_s = exp_theta_s / Z_s  # Shape (4,)\n",
    "\n",
    "    # Policy probability for the taken action\n",
    "    pi_a_s = pi_s[action]\n",
    "\n",
    "    # Compute the gradient entries for the current state\n",
    "    for a_prime in range(4):\n",
    "        idx = idx_start + a_prime  # Index in theta and grad\n",
    "        if a_prime == action:\n",
    "            # For the taken action\n",
    "            grad[idx] = pi_a_s * (1 - pi_s[a_prime])\n",
    "        else:\n",
    "            # For other actions\n",
    "            grad[idx] = -pi_a_s * pi_s[a_prime]\n",
    "\n",
    "    return grad\n"
   ]
  },
  {
   "cell_type": "markdown",
   "metadata": {
    "id": "1Cx-jtxZTc57"
   },
   "source": [
    "The code below helps you check if your derivative implementation is correct.\n",
    "In case your implementation works, the code should print success.\n",
    "You should not modify the cell below."
   ]
  },
  {
   "cell_type": "code",
   "execution_count": 12,
   "metadata": {
    "colab": {
     "base_uri": "https://localhost:8080/"
    },
    "id": "K2lAM_IRTc57",
    "outputId": "9f5de7a0-bd28-418a-a12a-62e700eab1f8"
   },
   "outputs": [
    {
     "name": "stdout",
     "output_type": "stream",
     "text": [
      "Success: errors within tolerance. Mean abs. error: 2.5945886665461015e-08\n"
     ]
    }
   ],
   "source": [
    "# DO NOT MODIFY\n",
    "# checks the code above\n",
    "torch.manual_seed(0)\n",
    "success = True\n",
    "N = 10\n",
    "err = 0.\n",
    "\n",
    "for i in range(N):\n",
    "    theta = torch.rand((4*49))\n",
    "    theta.requires_grad = True\n",
    "\n",
    "    for state in range(49):\n",
    "        for action in range(4):\n",
    "            by_state = torch.exp(theta).reshape(49,4)\n",
    "            out_prob = by_state / by_state.sum(-1, keepdim=True)\n",
    "            out_prob.reshape(-1)[action + state*4].backward()\n",
    "\n",
    "            answer = direct_parameterisation_gradient(action, state, theta.detach().cpu().numpy())\n",
    "\n",
    "            err += np.abs(answer - theta.grad.cpu().numpy()).sum()\n",
    "\n",
    "            if not np.allclose(answer, theta.grad.cpu().numpy()):\n",
    "                success = False\n",
    "\n",
    "            theta.grad.zero_()\n",
    "\n",
    "if success:\n",
    "    print(f\"Success: errors within tolerance. Mean abs. error: {err / (4 * 49 * N)}\")\n",
    "else:\n",
    "    print(f\"Fail: errors not within tolerance. Mean abs. error: {err / (4 * 49 * N)}\")\n",
    "\n",
    "del theta, by_state, out_prob, answer"
   ]
  },
  {
   "cell_type": "markdown",
   "metadata": {
    "id": "zgrChoLQTc57"
   },
   "source": [
    "### REINFORCE Implementation"
   ]
  },
  {
   "cell_type": "markdown",
   "metadata": {
    "id": "N_cnPOWvTc57"
   },
   "source": [
    "**Task 1.4 (0.5 pt):** In the lectures, you have been introduced to the REINFORCE algorithm. Explain in a few sentences what the regular REINFORCE objective aims to optimise and how it is achieved only using sample and no prior information on the MDP dynamics.\n",
    "\n",
    "*Write in the Markdown cell below (use LaTeX-math mode for equations, etc.).*"
   ]
  },
  {
   "cell_type": "markdown",
   "metadata": {
    "id": "D9H8MDQITc57"
   },
   "source": [
    "# Explanation of the REINFORCE Objective\n",
    "\n",
    "The REINFORCE algorithm aims to maximize the expected cumulative reward (also known as the return) by adjusting the policy parameters in the direction that increases the likelihood of taking actions that lead to higher rewards. Specifically, it optimizes the objective function:\n",
    "\n",
    "$$\n",
    "J(\\theta) = \\mathbb{E}_{\\tau \\sim \\pi_{\\theta}} \\left[ G(\\tau) \\right]\n",
    "$$\n",
    "\n",
    "where:\n",
    "\n",
    "- $\\theta$ are the policy parameters,\n",
    "- $\\tau$ represents a trajectory (sequence of states and actions),\n",
    "- $G(\\tau)$ is the cumulative reward of the trajectory,\n",
    "- $\\pi_{\\theta}$ is the policy parameterized by $\\theta$.\n",
    "\n",
    "REINFORCE achieves this optimization using only sampled trajectories without prior knowledge of the MDP dynamics (transition probabilities and reward functions). It does so by estimating the gradient of the expected return with respect to the policy parameters using Monte Carlo methods:\n",
    "\n",
    "$$\n",
    "\\nabla_{\\theta} J(\\theta) \\approx \\frac{1}{N} \\sum_{i=1}^{N} \\sum_{t=0}^{T_i} \\nabla_{\\theta} \\log \\pi_{\\theta}(a_t^i \\mid s_t^i) G_t^i\n",
    "$$\n",
    "\n",
    "where:\n",
    "\n",
    "- $N$ is the number of sampled trajectories,\n",
    "- $T_i$ is the length of trajectory $i$,\n",
    "- $G_t^i$ is the cumulative reward from time $t$ onwards in trajectory $i$.\n",
    "\n",
    "This gradient estimate relies solely on samples from the policy and observed rewards, allowing the agent to learn optimal behaviors without explicit knowledge of the MDP dynamics.\n"
   ]
  },
  {
   "cell_type": "markdown",
   "metadata": {
    "id": "kFOENVeNTc57"
   },
   "source": [
    "**Task 1.5 (3 pts):** Using your functions implemented in Task 1.1, 1.2 and 1.3, fill in the `ReinforceLearner` class. You can use the already implemented methods of the GridWorld class:\n",
    "- `reset_world`: reset the world to starting state\n",
    "- `is_terminal`: is the current state terminal\n",
    "- `get_current_reward`: reward of the current state\n",
    "- `step`: given an action among `ACTION_LEFT, ACTION_RIGHT, ACTION_UP, ACTION_DOWN`, takes a step in the simulation\n",
    "- `get_state`: get current state, as an integer from 0 to 48\n",
    "- `get_coordinates`: get current coordinates in table as a tuple (x,y)\n",
    "- `render_state`: render the current state of the grid world, useful for debugging\n",
    "\n",
    "**Hint:** You do not need to implement an exploration strategy with the appropriate intialisation, so only vanilla policy gradient steps should be sufficient for convergence with an appropriate learning rate."
   ]
  },
  {
   "cell_type": "code",
   "execution_count": 13,
   "metadata": {
    "id": "2E-z7lWGTc57"
   },
   "outputs": [],
   "source": [
    "class ReinforceLearner:\n",
    "\n",
    "    def __init__(self, learning_rate, gamma):\n",
    "        \"\"\"Initialization code\"\"\"\n",
    "        self.world = GridWorld()\n",
    "        self.learning_rate = learning_rate\n",
    "        self.gamma = gamma\n",
    "        self.theta = get_initial_parameters()\n",
    "        self.action_space = [ACTION_LEFT, ACTION_RIGHT, ACTION_UP, ACTION_DOWN]\n",
    "        self.state_space_size = (2 * self.world.size + 1) ** 2  # 49 states\n",
    "\n",
    "    def get_action_prob(self, state:int):\n",
    "        \"\"\"Given the state, return the probability of taking each of the 4 actions\"\"\"\n",
    "        idx_start = 4 * state\n",
    "        idx_end = idx_start + 4\n",
    "        theta_s = self.theta[idx_start:idx_end]  # Shape (4,)\n",
    "        exp_theta_s = np.exp(theta_s - np.max(theta_s))  # Numerical stability\n",
    "        probs = exp_theta_s / np.sum(exp_theta_s)\n",
    "        return probs\n",
    "\n",
    "    def train(self, n_updates:int, n_trajectories:int):\n",
    "        \"\"\"Run the training procedure for n_updates steps\"\"\"\n",
    "        rewards = []\n",
    "        for episode in range(n_updates):\n",
    "            avg_reward = self.reinforce_step(n_trajectories)\n",
    "            rewards.append(avg_reward)\n",
    "            if (episode + 1) % 100 == 0:\n",
    "                print(f\"Episode {episode + 1}/{n_updates}, Average Reward: {avg_reward:.2f}\")\n",
    "        return rewards\n",
    "\n",
    "    def reinforce_step(self, n_trajectories: int):\n",
    "        \"\"\"Run a single gradient step for REINFORCE (without baseline)\"\"\"\n",
    "        all_episode_rewards = []\n",
    "        all_gradients = []\n",
    "\n",
    "        for trajectory in range(n_trajectories):\n",
    "            # Initialize lists to store states, actions, rewards\n",
    "            states = []\n",
    "            actions = []\n",
    "            rewards = []\n",
    "\n",
    "            # Reset the environment\n",
    "            self.world.reset_world()\n",
    "\n",
    "            while not self.world.is_terminal():\n",
    "                state = self.world.get_state()\n",
    "                probs = self.get_action_prob(state)\n",
    "                action = np.random.choice(self.action_space, p=probs)\n",
    "                self.world.step(action)\n",
    "                reward = self.world.get_current_reward()\n",
    "\n",
    "                # Store the experience\n",
    "                states.append(state)\n",
    "                actions.append(action)\n",
    "                rewards.append(reward)\n",
    "\n",
    "            # Compute the returns (discounted cumulative rewards)\n",
    "            returns = []\n",
    "            G = 0\n",
    "            for r in reversed(rewards):\n",
    "                G = r + self.gamma * G\n",
    "                returns.insert(0, G)\n",
    "\n",
    "            # Normalize returns for variance reduction\n",
    "            returns = np.array(returns)\n",
    "            returns = (returns - np.mean(returns)) / (np.std(returns) + 1e-8)\n",
    "\n",
    "            # Compute gradients for each time step\n",
    "            gradients = []\n",
    "            for t in range(len(states)):\n",
    "                state = states[t]\n",
    "                action = actions[t]\n",
    "                # Gradient of log policy\n",
    "                probs = self.get_action_prob(state)\n",
    "                grad_log_policy = np.zeros_like(self.theta)\n",
    "                idx_start = 4 * state\n",
    "                idx_end = idx_start + 4\n",
    "                for a_prime in range(4):\n",
    "                    idx = idx_start + a_prime\n",
    "                    if a_prime == action:\n",
    "                        grad_log_policy[idx] = 1 - probs[a_prime]\n",
    "                    else:\n",
    "                        grad_log_policy[idx] = -probs[a_prime]\n",
    "                # Scale by return\n",
    "                grad = returns[t] * grad_log_policy\n",
    "                gradients.append(grad)\n",
    "\n",
    "            # Sum the gradients for this trajectory\n",
    "            total_gradient = np.sum(gradients, axis=0)\n",
    "            all_gradients.append(total_gradient)\n",
    "            all_episode_rewards.append(np.sum(rewards))\n",
    "\n",
    "        # Average the gradients over all trajectories\n",
    "        mean_gradient = np.mean(all_gradients, axis=0)\n",
    "\n",
    "        # Update parameters\n",
    "        self.theta += self.learning_rate * mean_gradient\n",
    "\n",
    "        # Return the average reward for this update\n",
    "        average_reward = np.mean(all_episode_rewards)\n",
    "        return average_reward\n",
    "\n",
    "    def evaluate(self, render: bool = True):\n",
    "        \"\"\"Evaluate current algorithm for a single episode and return.\"\"\"\n",
    "        self.world.reset_world()\n",
    "        total_reward = 0\n",
    "        state_history = []\n",
    "\n",
    "        while True:\n",
    "            state = self.world.get_state()\n",
    "            state_history.append(self.world.get_coordinates())\n",
    "            probs = self.get_action_prob(state)\n",
    "            action = np.random.choice(self.action_space, p=probs)\n",
    "            self.world.step(action)\n",
    "            reward = self.world.get_current_reward()\n",
    "            total_reward += reward\n",
    "\n",
    "            if self.world.is_terminal():\n",
    "                # Record the final state after reaching the terminal state\n",
    "                state_history.append(self.world.get_coordinates())\n",
    "                break\n",
    "\n",
    "        print(f\"Total reward from the episode: {total_reward}\")\n",
    "\n",
    "        if render:\n",
    "            for coords in state_history:\n",
    "                self.world.state = [coords[0] - self.world.size, self.world.size - coords[1]]\n",
    "                self.world.render_state()\n"
   ]
  },
  {
   "cell_type": "markdown",
   "metadata": {
    "id": "sHpfxZSfTc57"
   },
   "source": [
    "### Evaluation\n"
   ]
  },
  {
   "cell_type": "markdown",
   "metadata": {
    "id": "xu_9dME1Tc57"
   },
   "source": [
    "**Task 1.6 (1 pt):** Run the above code until convergence, and evaluate your strategy at the end.\n",
    "Plot the average reward observed per epoch during training.\n",
    "You made need to tune your hyper-parameters. You policy should consistently visit the postive rewards to solve the environment."
   ]
  },
  {
   "cell_type": "code",
   "execution_count": 14,
   "metadata": {
    "colab": {
     "base_uri": "https://localhost:8080/"
    },
    "id": "y7lWjWcVTc57",
    "outputId": "16a96b9d-c814-47f3-b248-afc140bc00e5"
   },
   "outputs": [
    {
     "name": "stdout",
     "output_type": "stream",
     "text": [
      "Episode 100/2000, Average Reward: 0.72\n",
      "Episode 200/2000, Average Reward: 0.96\n",
      "Episode 300/2000, Average Reward: 0.96\n",
      "Episode 400/2000, Average Reward: 0.88\n",
      "Episode 500/2000, Average Reward: 1.00\n",
      "Episode 600/2000, Average Reward: 0.96\n",
      "Episode 700/2000, Average Reward: 1.00\n",
      "Episode 800/2000, Average Reward: 1.00\n",
      "Episode 900/2000, Average Reward: 0.96\n",
      "Episode 1000/2000, Average Reward: 0.96\n",
      "Episode 1100/2000, Average Reward: 1.00\n",
      "Episode 1200/2000, Average Reward: 1.00\n",
      "Episode 1300/2000, Average Reward: 1.00\n",
      "Episode 1400/2000, Average Reward: 1.00\n",
      "Episode 1500/2000, Average Reward: 1.00\n",
      "Episode 1600/2000, Average Reward: 0.96\n",
      "Episode 1700/2000, Average Reward: 1.00\n",
      "Episode 1800/2000, Average Reward: 0.96\n",
      "Episode 1900/2000, Average Reward: 1.00\n",
      "Episode 2000/2000, Average Reward: 1.00\n"
     ]
    }
   ],
   "source": [
    "# TODO: Run your implementation for 1.5 here.\n",
    "# Remember to evaluate it at the end. Show your evalutation (including visualization of state history)!\n",
    "\n",
    "# Hyperparameters\n",
    "learning_rate = 0.05\n",
    "gamma = 0.99\n",
    "n_updates = 2000\n",
    "n_trajectories = 50\n",
    "\n",
    "agent = ReinforceLearner(learning_rate=learning_rate, gamma=gamma)\n",
    "\n",
    "# Train the agent\n",
    "rewards = agent.train(n_updates=n_updates, n_trajectories=n_trajectories)\n",
    "\n",
    "\n"
   ]
  },
  {
   "cell_type": "code",
   "execution_count": 15,
   "metadata": {
    "colab": {
     "base_uri": "https://localhost:8080/",
     "height": 1000
    },
    "id": "qPDpJZzJTc58",
    "outputId": "0a66bae3-82ff-4842-cf9e-65a61a6e9854"
   },
   "outputs": [
    {
     "data": {
      "image/png": "[encoded data removed]",
      "text/plain": [
       "<Figure size 864x432 with 1 Axes>"
      ]
     },
     "metadata": {
      "needs_background": "light"
     },
     "output_type": "display_data"
    },
    {
     "name": "stdout",
     "output_type": "stream",
     "text": [
      "Total reward from the episode: 1\n"
     ]
    },
    {
     "data": {
      "image/png": "[encoded data removed]",
      "text/plain": [
       "<Figure size 360x360 with 1 Axes>"
      ]
     },
     "metadata": {
      "needs_background": "light"
     },
     "output_type": "display_data"
    },
    {
     "data": {
      "image/png": "[encoded data removed]",
      "text/plain": [
       "<Figure size 360x360 with 1 Axes>"
      ]
     },
     "metadata": {
      "needs_background": "light"
     },
     "output_type": "display_data"
    },
    {
     "data": {
      "image/png": "[encoded data removed]",
      "text/plain": [
       "<Figure size 360x360 with 1 Axes>"
      ]
     },
     "metadata": {
      "needs_background": "light"
     },
     "output_type": "display_data"
    },
    {
     "data": {
      "image/png": "[encoded data removed]",
      "text/plain": [
       "<Figure size 360x360 with 1 Axes>"
      ]
     },
     "metadata": {
      "needs_background": "light"
     },
     "output_type": "display_data"
    },
    {
     "data": {
      "image/png": "[encoded data removed]",
      "text/plain": [
       "<Figure size 360x360 with 1 Axes>"
      ]
     },
     "metadata": {
      "needs_background": "light"
     },
     "output_type": "display_data"
    },
    {
     "data": {
      "image/png": "[encoded data removed]",
      "text/plain": [
       "<Figure size 360x360 with 1 Axes>"
      ]
     },
     "metadata": {
      "needs_background": "light"
     },
     "output_type": "display_data"
    },
    {
     "data": {
      "image/png": "[encoded data removed]",
      "text/plain": [
       "<Figure size 360x360 with 1 Axes>"
      ]
     },
     "metadata": {
      "needs_background": "light"
     },
     "output_type": "display_data"
    },
    {
     "data": {
      "image/png": "[encoded data removed]",
      "text/plain": [
       "<Figure size 360x360 with 1 Axes>"
      ]
     },
     "metadata": {
      "needs_background": "light"
     },
     "output_type": "display_data"
    },
    {
     "data": {
      "image/png": "[encoded data removed]",
      "text/plain": [
       "<Figure size 360x360 with 1 Axes>"
      ]
     },
     "metadata": {
      "needs_background": "light"
     },
     "output_type": "display_data"
    },
    {
     "data": {
      "image/png": "[encoded data removed]",
      "text/plain": [
       "<Figure size 360x360 with 1 Axes>"
      ]
     },
     "metadata": {
      "needs_background": "light"
     },
     "output_type": "display_data"
    },
    {
     "data": {
      "image/png": "[encoded data removed]",
      "text/plain": [
       "<Figure size 360x360 with 1 Axes>"
      ]
     },
     "metadata": {
      "needs_background": "light"
     },
     "output_type": "display_data"
    },
    {
     "data": {
      "image/png": "[encoded data removed]",
      "text/plain": [
       "<Figure size 360x360 with 1 Axes>"
      ]
     },
     "metadata": {
      "needs_background": "light"
     },
     "output_type": "display_data"
    },
    {
     "data": {
      "image/png": "[encoded data removed]",
      "text/plain": [
       "<Figure size 360x360 with 1 Axes>"
      ]
     },
     "metadata": {
      "needs_background": "light"
     },
     "output_type": "display_data"
    }
   ],
   "source": [
    "## TODO: Plot the average reward observed per epoch during training here\n",
    "import matplotlib.pyplot as plt\n",
    "\n",
    "plt.figure(figsize=(12, 6))\n",
    "plt.plot(rewards)\n",
    "plt.xlabel('Epoch')\n",
    "plt.ylabel('Average Reward')\n",
    "plt.title('Average Reward per Epoch during Training')\n",
    "plt.grid(True)\n",
    "plt.show()\n",
    "\n",
    "# Evaluate the agent at the end of training\n",
    "agent.evaluate(render=True)"
   ]
  },
  {
   "cell_type": "markdown",
   "metadata": {
    "id": "fu6cYP6jTc58"
   },
   "source": [
    "### Additional Questions\n"
   ]
  },
  {
   "cell_type": "markdown",
   "metadata": {
    "id": "mRp0TW28Tc58"
   },
   "source": [
    "**Task 1.7 (1 pt):** The code above for REINFORCE does not implement an explicit exploration strategy.\n",
    "Explain how the exploration-exploitation trade-off was circumvented by your choice of parameters intialisation in a few sentences, and how this approach could fail for some initialisations.\n",
    "\n",
    "*Write in the Markdown cell below (use LaTeX-math mode for equations, etc.).*"
   ]
  },
  {
   "cell_type": "markdown",
   "metadata": {
    "id": "Jr5prDp8Tc58"
   },
   "source": [
    "The exploration-exploitation trade-off in the REINFORCE implementation was implicitly managed through the initialization of the policy parameters\n",
    "𝜃. By initializing 𝜃 with small random values (e.g., uniformly between\n",
    "−0.1 −0.1 and 0.1 0.1), the initial policy generated by the softmax function is approximately uniform across all actions in each state. This means that the agent starts with a high degree of exploration, as each action has nearly equal probability of being selected. Over time, as the agent collects experience and updates 𝜃 based on received rewards, the policy naturally shifts towards exploiting actions that yield higher returns.\n",
    "\n",
    "This approach can fail with certain initializations. If 𝜃 is initialized with large magnitudes or biased values, the softmax function may produce a policy that heavily favors certain actions from the start, reducing exploration. For instance, if one action's parameter is significantly higher than others due to initialization, the agent might consistently select that action and miss out on exploring potentially better alternatives. Therefore, without an explicit exploration strategy, the agent's ability to explore effectively depends on careful initialization of 𝜃, and inappropriate initial values could hinder learning by limiting exploration.\n",
    "\n"
   ]
  },
  {
   "cell_type": "markdown",
   "metadata": {
    "id": "M7gODtKVTc5_"
   },
   "source": [
    "**Task 1.8 (0.5 pt):** In a few sentences explain the shortcomings of the direct parametrisation.\n",
    "\n",
    "*Write in the Markdown cell below (use LaTeX-math mode for equations, etc.).*\n"
   ]
  },
  {
   "cell_type": "markdown",
   "metadata": {
    "id": "ZcZZc1QwTc5_"
   },
   "source": [
    "The direct parametrization has significant shortcomings due to its lack of scalability and generalization. By assigning a unique parameter to each state-action pair, it results in a parameter vector whose size grows exponentially with the number of states and actions. This makes it impractical for environments with large or continuous state spaces. Additionally, it doesn't capture similarities or shared structures between different states or actions, preventing the agent from generalizing learned behaviors to unseen situations. Consequently, learning becomes inefficient, requiring extensive data to cover all possible state-action combinations."
   ]
  },
  {
   "cell_type": "markdown",
   "metadata": {
    "id": "u1XzWbCpTc5_"
   },
   "source": [
    "##  Part 2: CartPole with A2C"
   ]
  },
  {
   "cell_type": "markdown",
   "metadata": {
    "id": "Cb3Y-XrMTc6A"
   },
   "source": [
    "### The Cart Pole Environment\n",
    "\n",
    "The [CartPole](https://gymnasium.farama.org/environments/classic_control/cart_pole/) environment is a classical problem where a pole is attached by an un-actuated joint to a cart, which moves along a frictionless track. The pendulum is placed upright on the cart and the goal is to balance the pole by applying forces in the left and right direction on the cart.\n",
    "\n",
    "Since the focus of this task is the implementation of reinforcement\n",
    "learning algorithms, it is not necessary to have a detailed understanding of the mechanics of the\n",
    "Cart Pole environment beyond the observation and action space sizes."
   ]
  },
  {
   "cell_type": "markdown",
   "metadata": {
    "id": "xXPYxufJTc6A"
   },
   "source": [
    "### Initialize the environment\n",
    "Initialize the Cart Pole environment in the Gymnasium library to start learning a policy for it. You can read more about the Gymnasium library [here](https://gymnasium.farama.org/)."
   ]
  },
  {
   "cell_type": "code",
   "execution_count": 20,
   "metadata": {
    "id": "rh5JnluyTc6A"
   },
   "outputs": [],
   "source": [
    "env = gym.make(\"CartPole-v1\")"
   ]
  },
  {
   "cell_type": "markdown",
   "metadata": {
    "id": "pRVrizJnTc6B"
   },
   "source": [
    "### PyTorch Intro\n",
    "\n",
    "We also introduce basic functionality for PyTorch.\n",
    "PyTorch is a widely used automatic differentiation library, which is very useful for training neural networks.\n",
    "This part is also for guidance and does not include questions.\n",
    "While we do introduce the basics of PyTorch, you are encouraged to explore more about the library following the official [tutorials](https://pytorch.org/tutorials/beginner/basics/intro.html) in case you haven't used it before."
   ]
  },
  {
   "cell_type": "markdown",
   "metadata": {
    "id": "0kNPx0eRTc6B"
   },
   "source": [
    "PyTorch is built on top of the class `torch.Tensor`, which implements many operations on vectors, matrices and higher dimensional tensors.\n",
    "The functionality of operations on torch tensors closely mirrors the operations from the `numpy` package."
   ]
  },
  {
   "cell_type": "code",
   "execution_count": 21,
   "metadata": {
    "colab": {
     "base_uri": "https://localhost:8080/"
    },
    "id": "Nwglpvq4Tc6B",
    "outputId": "addc89b8-03cf-4e64-ed3a-09cc5b6a4cde"
   },
   "outputs": [
    {
     "data": {
      "text/plain": [
       "tensor([0., 0., 0., 0., 0.])"
      ]
     },
     "execution_count": 21,
     "metadata": {},
     "output_type": "execute_result"
    }
   ],
   "source": [
    "torch.zeros(5)"
   ]
  },
  {
   "cell_type": "code",
   "execution_count": 22,
   "metadata": {
    "colab": {
     "base_uri": "https://localhost:8080/"
    },
    "id": "K2_DiQ47Tc6B",
    "outputId": "e6a9bdd5-7a7d-4bba-ce81-975bd266efb7"
   },
   "outputs": [
    {
     "data": {
      "text/plain": [
       "tensor([[1., 2.],\n",
       "        [3., 4.]])"
      ]
     },
     "execution_count": 22,
     "metadata": {},
     "output_type": "execute_result"
    }
   ],
   "source": [
    "a_matrix = [[1., 2.],[3., 4.]]\n",
    "torch.tensor(a_matrix)"
   ]
  },
  {
   "cell_type": "code",
   "execution_count": 23,
   "metadata": {
    "colab": {
     "base_uri": "https://localhost:8080/"
    },
    "id": "bwhenwYZTc6B",
    "outputId": "b30caa20-6559-42a7-d600-61598d3aff86"
   },
   "outputs": [
    {
     "data": {
      "text/plain": [
       "tensor([14., 32.])"
      ]
     },
     "execution_count": 23,
     "metadata": {},
     "output_type": "execute_result"
    }
   ],
   "source": [
    "torch.matmul(torch.tensor(a_matrix),\n",
    "             torch.tensor([4., 5.]))"
   ]
  },
  {
   "cell_type": "markdown",
   "metadata": {
    "id": "ll-Euxz4Tc6B"
   },
   "source": [
    "What makes torch special is that it implements automated differentiation by tracking the operation history on tensors.\n",
    "Namely, if a `torch.Tensor` has the propery `.requires_grad` set to `True`, torch will automatically track operations made on that tensor.\n",
    "A final `.backward()` call to a computation result will compute partial derivatives of the variable with respect to all tensors in the tracked computational graph.\n",
    "This is particularly useful for tracking derivatives with respect to a loss function, to enable simple gradient descent."
   ]
  },
  {
   "cell_type": "code",
   "execution_count": 24,
   "metadata": {
    "colab": {
     "base_uri": "https://localhost:8080/"
    },
    "id": "VX-EDyc2Tc6B",
    "outputId": "abb21684-e886-4533-8272-1ef91959ad89"
   },
   "outputs": [
    {
     "name": "stdout",
     "output_type": "stream",
     "text": [
      "tensor(1.0208, grad_fn=<BinaryCrossEntropyWithLogitsBackward0>)\n"
     ]
    }
   ],
   "source": [
    "# example from https://pytorch.org/tutorials/beginner/basics/autogradqs_tutorial.html\n",
    "\n",
    "x = torch.ones(5)  # input tensor\n",
    "y = torch.zeros(3)  # expected output\n",
    "w = torch.randn(5, 3, requires_grad=True)\n",
    "b = torch.randn(3, requires_grad=True)\n",
    "z = torch.matmul(x, w)+b\n",
    "loss = torch.nn.functional.binary_cross_entropy_with_logits(z, y)\n",
    "print(loss)"
   ]
  },
  {
   "cell_type": "code",
   "execution_count": 25,
   "metadata": {
    "colab": {
     "base_uri": "https://localhost:8080/"
    },
    "id": "eseJCgXyTc6B",
    "outputId": "3e35a7d1-7486-45c8-d733-9d3eef83d92f"
   },
   "outputs": [
    {
     "data": {
      "text/plain": [
       "tensor([[0.1598, 0.2628, 0.1917],\n",
       "        [0.1598, 0.2628, 0.1917],\n",
       "        [0.1598, 0.2628, 0.1917],\n",
       "        [0.1598, 0.2628, 0.1917],\n",
       "        [0.1598, 0.2628, 0.1917]])"
      ]
     },
     "execution_count": 25,
     "metadata": {},
     "output_type": "execute_result"
    }
   ],
   "source": [
    "# differentiate with respect to loss\n",
    "loss.backward()\n",
    "# the computed partial derivatives of w\n",
    "w.grad"
   ]
  },
  {
   "cell_type": "markdown",
   "metadata": {
    "id": "WByBttdRTc6B"
   },
   "source": [
    "To prevent tracking history, you can also wrap a piece of code in `with torch.no_grad():`.\n",
    "This can be particularly helpful when evaluating a model on new data, when training (and hence differentiation) is not required."
   ]
  },
  {
   "cell_type": "markdown",
   "metadata": {
    "id": "-KKJ2I8mTc6B"
   },
   "source": [
    "For more advanced modelling (as will be required by this exercise), it is usually useful to implement classes as children of `nn.Module`.\n",
    "These implement the function `forward`, which returns the output of the forward pass of a model given inputs.\n",
    "Modules have `nn.Parameter`, which will be the trainable parameters of the models.\n",
    "Most useful sub-modules are already provided by the torch package: see for instance `nn.Linear`."
   ]
  },
  {
   "cell_type": "markdown",
   "metadata": {
    "id": "0srSbx0dTc6C"
   },
   "source": [
    "Finally, torch implements many standard optimizers: for instance `torch.optim.SGD`, `torch.optim.Adam`.\n",
    "These are typically used to automatically take care of training once partial derivatives are computed."
   ]
  },
  {
   "cell_type": "markdown",
   "metadata": {
    "id": "Ak8tkB5rTc6C"
   },
   "source": [
    "### Advantage Actor-Critic (A2C)"
   ]
  },
  {
   "cell_type": "markdown",
   "metadata": {
    "id": "-46xJIE6Tc6C"
   },
   "source": [
    "A more stable alternative to vanilla policy gradients via REINFORCE is the so-called A2C algorithm, which is a actor-critic method.\n",
    "First, you should familiarise yourself with the A2C algorithm reading the original [paper](https://arxiv.org/pdf/1602.01783.pdf).\n",
    "\n",
    "**Task 2.1 (3 pts):** Explain in a few sentences each,\n",
    "\n",
    "1. how the A2C algorithm addresses the shortcomings of vanilla policy gradient methods,\n",
    "2. the difference between A2C and A3C,\n",
    "3. why the A3C algorithm could be expected to perform even better than A2C.\n",
    "\n",
    "*Write in the Markdown cell below (use LaTeX-math mode for equations, etc.).*"
   ]
  },
  {
   "cell_type": "markdown",
   "metadata": {
    "id": "N-eN17R6Tc6C"
   },
   "source": [
    "1. How the A2C algorithm addresses the shortcomings of vanilla policy gradient methods:\n",
    "\n",
    "The A2C (Advantage Actor-Critic) algorithm improves upon vanilla policy gradient methods like REINFORCE by reducing variance and enhancing learning stability. In vanilla policy gradients, the policy is updated using returns (the cumulative future rewards), which can have high variance and lead to unstable learning. A2C introduces a critic network that estimates the value function 𝑉(𝑠), representing the expected return from state 𝑠. By using the advantage function 𝐴(𝑠,𝑎)=𝑄(𝑠,𝑎)−𝑉(𝑠), where 𝑄(𝑠,𝑎) is the expected return after taking action 𝑎 in state 𝑠, the algorithm focuses updates on actions that perform better than expected. This approach reduces the variance in gradient estimates by subtracting the baseline value 𝑉(𝑠), leading to more stable and efficient learning.\n",
    "\n",
    "2. The difference between A2C and A3C:\n",
    "\n",
    "A2C and A3C (Asynchronous Advantage Actor-Critic) are both actor-critic algorithms that utilize the advantage function to update policies. The primary difference lies in how they handle parallelism and updates:\n",
    "\n",
    "A2C: A2C is a synchronous version of A3C. It runs multiple worker processes in parallel environments, but synchronizes the gradient updates. After a set number of steps, all workers send their gradients to a central optimizer, which averages them and updates the global network parameters synchronously. This method benefits from efficient utilization of GPUs and simplifies implementation compared to asynchronous methods.\n",
    "\n",
    "A3C: A3C operates with multiple workers running asynchronously. Each worker interacts with its own environment and updates the global network parameters independently without waiting for other workers. The asynchronous updates introduce diversity in learning and help prevent workers from becoming stuck in the same local optima. This approach leverages CPU resources effectively and can lead to faster learning due to increased exploration.\n",
    "\n",
    "3. Why the A3C algorithm could be expected to perform even better than A2C:\n",
    "\n",
    "A3C can potentially outperform A2C because its asynchronous nature introduces greater exploration and diversity in learning. As workers operate independently, they experience different state transitions and update the global parameters based on varied experiences. This diversity helps in:\n",
    "\n",
    "**Escaping Local Optima:** Independent exploration increases the chances of discovering better policies that might be missed in synchronous updates.\n",
    "\n",
    "**Reducing Parameter Update Conflicts:** Asynchronous updates minimize the risk of workers overwriting each other's progress in a synchronized manner.\n",
    "\n",
    "**Improving Learning Efficiency:** Without the need to wait for synchronization, workers can perform updates more frequently, leading to faster convergence.\n",
    "\n",
    "Additionally, the inherent randomness and non-determinism in asynchronous updates can act as a form of regularization, potentially improving the generalization of the learned policy."
   ]
  },
  {
   "cell_type": "markdown",
   "metadata": {
    "id": "WuG43_9fTc6C"
   },
   "source": [
    "### Neural Network Parameterization\n",
    "\n",
    "We will use neural networks to parameterize both the value function and the policy.\n",
    "The `ActorNet` defines the policy $\\pi_\\theta(a|s)$. Given state $s$ as input, it will output a distribution over the action space.\n",
    "The `CriticNet` defines the approximation to the value function, which could be denoted $\\hat{V}_w(s)$. Given state $s$ as input, it will output an approximation of the state-value.\n",
    "\n",
    "You can play with different network architectures and the [activation](https://pytorch.org/docs/stable/nn.html#non-linear-activations-weighted-sum-nonlinearity) functions.\n",
    "Note that the `ActorNet` should produce a probability distribution over the action space."
   ]
  },
  {
   "cell_type": "markdown",
   "metadata": {
    "id": "bZUnennpTc6C"
   },
   "source": [
    "**Task 2.2 (0.5 pt):** Design your own neural networks for `ActorNet` and `CriticNet` in the code block below."
   ]
  },
  {
   "cell_type": "code",
   "execution_count": 26,
   "metadata": {
    "id": "RHZvM7lTTc6C"
   },
   "outputs": [],
   "source": [
    "class ActorNet(torch.nn.Module):\n",
    "    def __init__(self, num_state: int, num_action: int):\n",
    "        super(ActorNet, self).__init__()\n",
    "\n",
    "        # Define the network architecture\n",
    "        self.model = torch.nn.Sequential(\n",
    "            torch.nn.Linear(num_state, 128),    # Input layer to hidden layer\n",
    "            torch.nn.ReLU(),                    # Activation function\n",
    "            torch.nn.Linear(128, num_action),   # Hidden layer to output layer\n",
    "            torch.nn.Softmax(dim=-1)            # Softmax to get probability distribution\n",
    "        )\n",
    "\n",
    "    # Return a probability distribution over the action space\n",
    "    def forward(self, state):\n",
    "        return self.model(state)\n",
    "\n",
    "\n",
    "class CriticNet(torch.nn.Module):\n",
    "    def __init__(self, num_state: int):\n",
    "        super(CriticNet, self).__init__()\n",
    "\n",
    "        # Define the network architecture\n",
    "        self.model = torch.nn.Sequential(\n",
    "            torch.nn.Linear(num_state, 128),    # Input layer to hidden layer\n",
    "            torch.nn.ReLU(),                    # Activation function\n",
    "            torch.nn.Linear(128, 1)             # Hidden layer to output layer (single value)\n",
    "        )\n",
    "\n",
    "    # Return a single value\n",
    "    def forward(self, state):\n",
    "        return self.model(state)\n"
   ]
  },
  {
   "cell_type": "markdown",
   "metadata": {
    "id": "6rAxUPLyTc6C"
   },
   "source": [
    "### Learning Actor and Critic\n",
    "We train both the actor and critic nets by interacting with the environment.\n",
    "You implement the A2C training process below."
   ]
  },
  {
   "cell_type": "markdown",
   "metadata": {
    "id": "Y1DnIOeQTc6C"
   },
   "source": [
    "**Task 2.3 (4 pts):**\n",
    "Fill in and run the code below to implement A2C in the Cart Pole environment.\n",
    "You should play with your hyper-parameters as well, to enable efficient learning.\n",
    "You may play with different learning rates and optimizers.\n",
    "\n",
    "For different optimizers in PyTorch, see [here](https://pytorch.org/docs/stable/optim.html)."
   ]
  },
  {
   "cell_type": "code",
   "execution_count": 35,
   "metadata": {
    "id": "hu4CnehwTc6C"
   },
   "outputs": [],
   "source": [
    "import torch.nn as nn\n",
    "import torch.nn.functional as F\n",
    "\n",
    "class A2C():\n",
    "\n",
    "    def __init__(self, env):\n",
    "        \"\"\"Initialization code\"\"\"\n",
    "        # Initiate both nets\n",
    "        self.actor = ActorNet(env.observation_space.shape[0],\n",
    "                              env.action_space.n)\n",
    "        self.critic = CriticNet(env.observation_space.shape[0])\n",
    "\n",
    "        # Set gamma and learning rates\n",
    "        self.gamma = 0.99  # Discount factor\n",
    "        actor_lr = 0.005    # Learning rate for the actor\n",
    "        critic_lr = 0.005   # Learning rate for the critic\n",
    "\n",
    "        self.env = env\n",
    "\n",
    "\n",
    "        self.actor_opt = torch.optim.Adam(self.actor.parameters(), lr=actor_lr)\n",
    "        self.critic_opt = torch.optim.Adam(self.critic.parameters(), lr=critic_lr)\n",
    "\n",
    "    def train(self, max_iter: int = 1000, max_episode_len: int = 500):\n",
    "\n",
    "        total_reward = []\n",
    "\n",
    "        pbar = tqdm.tqdm(range(max_iter), desc=\"Episode\")\n",
    "        for num_iter in pbar:\n",
    "            # At each iteration, we roll out an episode using current policy\n",
    "            rewards = []\n",
    "            states = []\n",
    "            actions = []\n",
    "            log_probs = []\n",
    "            values = []\n",
    "\n",
    "            s, _ = self.env.reset()\n",
    "            for t in range(max_episode_len):\n",
    "                # Given current state, get action probabilities from actor\n",
    "                state = torch.tensor(s, dtype=torch.float32).unsqueeze(0)\n",
    "                probs = self.actor(state)\n",
    "                # Create the distribution as current policy\n",
    "                pi = torch.distributions.Categorical(probs)\n",
    "                # Sample one action from this policy\n",
    "                a = pi.sample()\n",
    "\n",
    "                log_prob = pi.log_prob(a)\n",
    "                value = self.critic(state)\n",
    "\n",
    "                # Interact with the environment\n",
    "                s, r, is_terminal, _, _ = self.env.step(a.item())\n",
    "\n",
    "                # Store data\n",
    "                rewards.append(r)\n",
    "                states.append(state)\n",
    "                actions.append(a)\n",
    "                log_probs.append(log_prob)\n",
    "                values.append(value)\n",
    "\n",
    "                if is_terminal:\n",
    "                    break\n",
    "\n",
    "            # Store total_reward\n",
    "            total_reward.append(sum(rewards))\n",
    "\n",
    "            pbar.set_postfix_str(f\"Last reward: {total_reward[-1]}, Mean last {min(len(total_reward),100)} episodes: {sum(total_reward[-100:])/min(len(total_reward),100):.2f}\")\n",
    "\n",
    "            # Compute returns and advantages\n",
    "            returns = []\n",
    "            R = 0\n",
    "            for r in reversed(rewards):\n",
    "                R = r + self.gamma * R\n",
    "                returns.insert(0, R)\n",
    "            returns = torch.tensor(returns, dtype=torch.float32)\n",
    "\n",
    "            # Convert lists to tensors\n",
    "            log_probs = torch.stack(log_probs)\n",
    "            values = torch.stack(values).squeeze()\n",
    "\n",
    "            # Compute advantages\n",
    "            advantages = returns - values.detach()\n",
    "\n",
    "            # Compute actor loss (policy gradient with baseline)\n",
    "            actor_loss = - (log_probs * advantages).mean()\n",
    "\n",
    "            # Compute critic loss (value function approximation)\n",
    "            critic_loss = F.mse_loss(values, returns)\n",
    "\n",
    "            # Update actor network\n",
    "            self.actor_opt.zero_grad()\n",
    "            actor_loss.backward()\n",
    "            self.actor_opt.step()\n",
    "\n",
    "            # Update critic network\n",
    "            self.critic_opt.zero_grad()\n",
    "            critic_loss.backward()\n",
    "            self.critic_opt.step()\n",
    "\n",
    "        self.env.close()\n",
    "\n",
    "        return total_reward"
   ]
  },
  {
   "cell_type": "code",
   "execution_count": 36,
   "metadata": {
    "colab": {
     "base_uri": "https://localhost:8080/"
    },
    "id": "5Yrbc7aOTc6C",
    "outputId": "764bb409-3f6d-42b8-b241-72c3d16b27cd"
   },
   "outputs": [
    {
     "name": "stderr",
     "output_type": "stream",
     "text": [
      "Episode: 100%|█████████████████| 1000/1000 [05:43<00:00,  2.91it/s, Last reward: 500.0, Mean last 100 episodes: 499.63]\n"
     ]
    }
   ],
   "source": [
    "# TODO: Run your implementation here.\n",
    "max_iter = 1000\n",
    "max_episode_len = 500\n",
    "\n",
    "a2c = A2C(env)\n",
    "\n",
    "total_reward = a2c.train(max_iter, max_episode_len)\n"
   ]
  },
  {
   "cell_type": "markdown",
   "metadata": {
    "id": "pXnnnqbmTc6C"
   },
   "source": [
    "**Useful hints:**\n",
    "\n",
    "1. See [here](https://pytorch.org/docs/stable/distributions.html) for distributions in PyTorch. You may find the function `log_prob()` useful. You can easily compute $\\log\\pi(a|s)$ and its gradient using the function.\n",
    "\n",
    "2. To optimize a model in PyTorch, you first define the loss function, then call the corresponding optimizer and perform backpropagation. For example, to optimize over the value function approximation, first let $\\text{loss}=\\|V_w-V^\\pi\\|^2$ and then call `loss.backward()` to compute the gradient.\n",
    "\n",
    "3. You may find the function `detach()` defined in PyTorch useful if you need to call `backward()` multiple times on the same variables without storing the computational graph every time.\n",
    "\n",
    "4. Maximizing $f(x)$ is equivalent to minimizing $-f(x)$. The default optimizers in PyTorch perform minimization.\n",
    "\n",
    "5. You may find the classes `torch.nn.Softmax`, `torch.nn.ReLU`, `torch.nn.Tanh` useful when implementing a neural network architecture."
   ]
  },
  {
   "cell_type": "markdown",
   "metadata": {
    "id": "w7WThhJyTc6C"
   },
   "source": [
    "### Analyze your results\n",
    "You can run the codes below to test your algorithm.\n",
    "These will help you understand if your algorithm is working, and will help us grade your implementation."
   ]
  },
  {
   "cell_type": "code",
   "execution_count": 31,
   "metadata": {
    "colab": {
     "base_uri": "https://localhost:8080/",
     "height": 413
    },
    "id": "oQrKsUtTTc6C",
    "outputId": "a16f0ba1-d0c8-4a6a-da37-a96a366e1ba4"
   },
   "outputs": [
    {
     "data": {
      "image/png": "[encoded data removed]",
      "text/plain": [
       "<Figure size 432x288 with 1 Axes>"
      ]
     },
     "metadata": {
      "needs_background": "light"
     },
     "output_type": "display_data"
    },
    {
     "name": "stdout",
     "output_type": "stream",
     "text": [
      "Episode 0 terminated after 318 steps with reward 318.0. \n"
     ]
    }
   ],
   "source": [
    "# This will visualize your learnt policy on the Cart Pole environment\n",
    "from IPython.display import clear_output\n",
    "\n",
    "\n",
    "env_render = gym.make(\"CartPole-v1\", render_mode=\"rgb_array\")\n",
    "for num_episode in range(1):\n",
    "    s,_ = env_render.reset()\n",
    "    tot_reward = []\n",
    "    for t in range(max_episode_len):\n",
    "\n",
    "        state = torch.tensor(s, dtype=torch.float).view(1, -1)\n",
    "\n",
    "        prob = a2c.actor(state)\n",
    "        policy = torch.distributions.categorical.Categorical(prob)\n",
    "        action = policy.sample()\n",
    "        s, r, is_terminal, _,_ = env_render.step(action.item())\n",
    "        tot_reward.append(r)\n",
    "        if is_terminal:\n",
    "            print(\"Episode {} terminated after {} steps with reward {}. \".format(num_episode, t+1, sum(tot_reward)))\n",
    "            break\n",
    "        clear_output(wait=True)\n",
    "        plt.imshow(env_render.render())\n",
    "        plt.show()\n",
    "\n",
    "env_render.close()"
   ]
  },
  {
   "cell_type": "markdown",
   "metadata": {
    "id": "DW6tObkxTc6C"
   },
   "source": [
    "We use a simple criteria to judge whether you solve the problem.\n",
    "We will compute an average of the total reward over the previous 100 episodes at each iteration.\n",
    "If there exists an iteration with average total reward larger than a threshold, as shown below, we will give you full grades.\n",
    "That is, the problem is solved when the average reward is greater than or equal to 475 over 100 consecutive trials.\n",
    "\n",
    "Note that `CartPole-v1` has a termination condition of 500 timesteps. It’s done so that one episode doesn’t take forever.\n",
    "So we say that if a policy can balance a pole for 500 time steps (and achieve 500 reward) it’s probably good enough."
   ]
  },
  {
   "cell_type": "code",
   "execution_count": 37,
   "metadata": {
    "colab": {
     "base_uri": "https://localhost:8080/",
     "height": 447
    },
    "id": "kuXBy5yPTc6D",
    "outputId": "3d3debad-ae2e-4832-f2c5-280c2a839394"
   },
   "outputs": [
    {
     "name": "stdout",
     "output_type": "stream",
     "text": [
      "Successfully solve the problem in 422 iterations.\n"
     ]
    },
    {
     "data": {
      "image/png": "[encoded data removed]",
      "text/plain": [
       "<Figure size 432x288 with 1 Axes>"
      ]
     },
     "metadata": {
      "needs_background": "light"
     },
     "output_type": "display_data"
    }
   ],
   "source": [
    "# this code should print success\n",
    "success_flag = False\n",
    "buffer_len = 100\n",
    "buffer_sum = sum(total_reward[:buffer_len])\n",
    "avg_reward = [buffer_sum / buffer_len]\n",
    "\n",
    "for num_iter in range(buffer_len, max_iter):\n",
    "    buffer_sum += total_reward[num_iter]\n",
    "    buffer_sum -= total_reward[num_iter - buffer_len]\n",
    "    buffer_avg = buffer_sum / buffer_len\n",
    "    avg_reward.append(buffer_avg)\n",
    "\n",
    "    if buffer_avg >= env.spec.reward_threshold and not success_flag:\n",
    "        print('Successfully solve the problem in {} iterations.'.format(num_iter + 1))\n",
    "        success_flag = True\n",
    "\n",
    "if not success_flag:\n",
    "    print('Unfortunately the agent is not smart enough.')\n",
    "\n",
    "# plot the average reward curve through the training process\n",
    "plt.plot(range(buffer_len-1, len(total_reward)), avg_reward)\n",
    "plt.show()"
   ]
  },
  {
   "cell_type": "markdown",
   "metadata": {
    "id": "1HnRknaeTc6D"
   },
   "source": [
    "### Entropy regularized A2C\n",
    "\n",
    "The exploration-exploition trade-off is also a significant problem to be solved in the context of policy gradients.\n",
    "There have been numerous approaches in literature aimed towards maximizing exploration in a principled and theoretically meaningful manner.\n",
    "One such example is the entropy regularised policy gradient objective:\n",
    "$$\n",
    "J_\\tau(\\theta) = J(\\theta) + \\tau \\mathbb{E}_{s \\sim d^\\pi_s}\\left[-\\sum_a \\pi_\\theta(a|s) \\log \\pi_\\theta(a|s)\\right],\n",
    "$$\n",
    "where $J(\\theta)$ is the vanilla policy gradient objective and $\\tau$ is a hyperparameter controlling regularisation."
   ]
  },
  {
   "cell_type": "markdown",
   "metadata": {
    "id": "5X9N3ATyTc6D"
   },
   "source": [
    "**Task 2.4 (0.5 pt):** Explain why entropy regularization is relevant for encouraging exploration.\n",
    "\n",
    "*Write in the Markdown cell below (use LaTeX-math mode for equations, etc.).*"
   ]
  },
  {
   "cell_type": "markdown",
   "metadata": {
    "id": "xGSjOWX7Tc6D"
   },
   "source": [
    "Entropy regularization works by giving a larger value to the right term in the objective function if it has more entropy. The right term has more entropy the more stochastic the policy is. The more deterministic the policy is , the less value the right term will have. If it is fully deterministic, the value $\\left[-\\sum_a \\pi_\\theta(a|s) \\log \\pi_\\theta(a|s)\\right]$ will be equal to 0 and will have no positive effect on the objective function.\n"
   ]
  },
  {
   "cell_type": "markdown",
   "metadata": {},
   "source": [
    "#### Entropy Regularization Example\n",
    "\n",
    "To understand how entropy regularization works, let's go through a simple mathematical example illustrating its effect on a reinforcement learning policy.\n",
    "\n",
    "#### Setup\n",
    "\n",
    "Assume we have an environment where an agent can take two actions: $A_1$ and $A_2$. The agent's policy $\\pi_\\theta$ is represented as a softmax function of its parameters, which gives probabilities for each action:\n",
    "\n",
    "$$\n",
    "\\pi_\\theta(A_1 | s) = \\frac{e^{\\theta_1}}{e^{\\theta_1} + e^{\\theta_2}}, \\quad \\pi_\\theta(A_2 | s) = \\frac{e^{\\theta_2}}{e^{\\theta_1} + e^{\\theta_2}}.\n",
    "$$\n",
    "\n",
    "#### Example Policies\n",
    "\n",
    "Let's consider two scenarios with different parameter settings for the policy:\n",
    "\n",
    "- **Deterministic Policy:**\n",
    "  - $$ \\theta_1 = 5 $$\n",
    "  - $$ \\theta_2 = 0 $$\n",
    "  - This results in:\n",
    "    $$\n",
    "    \\pi_\\theta(A_1 | s) = 1, \\quad \\pi_\\theta(A_2 | s) = 0\n",
    "    $$\n",
    "  - **Entropy:**\n",
    "    $$\n",
    "    H(\\pi_\\theta) = -\\left( 1 \\cdot \\log(1) + 0 \\cdot \\log(0) \\right) = 0\n",
    "    $$\n",
    "\n",
    "- **Stochastic Policy:**\n",
    "  - $$ \\theta_1 = 1 $$\n",
    "  - $$ \\theta_2 = 1 $$\n",
    "  - This results in:\n",
    "    $$\n",
    "    \\pi_\\theta(A_1 | s) = \\frac{e^1}{e^1 + e^1} = 0.5, \\quad \\pi_\\theta(A_2 | s) = \\frac{e^1}{e^1 + e^1} = 0.5\n",
    "    $$\n",
    "  - **Entropy:**\n",
    "    $$\n",
    "    H(\\pi_\\theta) = -\\left( 0.5 \\cdot \\log(0.5) + 0.5 \\cdot \\log(0.5) \\right) = -2 \\cdot 0.5 \\cdot \\log(0.5) = \\log(2) \\approx 0.693\n",
    "    $$\n",
    "\n",
    "#### Objective Function\n",
    "\n",
    "Suppose we have a simple expected return (reward) function defined as:\n",
    "$$\n",
    "J(\\theta) = \\mathbb{E}_{s \\sim d^\\pi_s}[R(s)],\n",
    "$$\n",
    "where \\( R(s) \\) is the reward received from state \\( s \\). Let's assume the expected reward is 10 for our example.\n",
    "\n",
    "Now, incorporating the entropy term with $\\tau = 1$:\n",
    "\n",
    "- **Deterministic Policy:**\n",
    "  $$\n",
    "  J_\\tau(\\theta) = J(\\theta) + \\tau H(\\pi_\\theta) = 10 + 1 \\cdot 0 = 10\n",
    "  $$\n",
    "\n",
    "- **Stochastic Policy:**\n",
    "  $$\n",
    "  J_\\tau(\\theta) = J(\\theta) + \\tau H(\\pi_\\theta) = 10 + 1 \\cdot \\log(2) \\approx 10 + 0.693 = 10.693\n",
    "  $$\n",
    "\n",
    "#### Comparison of Policies\n",
    "\n",
    "The regularized objective $J_\\tau(\\theta)$ for the stochastic policy is higher than that for the deterministic policy due to the added entropy term. This demonstrates that the stochastic policy, which maintains a higher entropy, is rewarded for its exploration.\n",
    "\n",
    "#### Implication for Learning\n",
    "\n",
    "- **Policy Update**: The policy gradient update will favor the stochastic policy because it has a higher objective value. If we apply the policy gradient update:\n",
    "  $$\n",
    "  \\theta \\leftarrow \\theta + \\alpha \\nabla J_\\tau(\\theta)\n",
    "  $$\n",
    "  where $\\alpha$ is the learning rate, the update will be more favorable towards the stochastic policy, encouraging the agent to explore more.\n",
    "\n",
    "- **Exploration**: By including the entropy term in the optimization, the agent is less likely to converge to a suboptimal deterministic policy too early in the training process. Instead, it continues to explore actions, potentially discovering better strategies.\n",
    "\n",
    "#### Conclusion\n",
    "\n",
    "This example shows how entropy regularization quantitatively influences the optimization of the policy. The stochastic policy, by maintaining a higher level of exploration (entropy), results in a higher overall objective due to the regularization term, guiding the learning process toward a better exploration-exploitation balance.\n",
    "\n"
   ]
  },
  {
   "cell_type": "markdown",
   "metadata": {
    "id": "VlS-IrEiTc6D"
   },
   "source": [
    "**Task 2.5 (1 pt):** Modify the training code from above to demonstrate A2C with entropy regularization. Implement a new loss function that returns your modified loss with entropy regularization. Use entropy regularisation on the CartPole task. Visualize your results and show that you have solved the problem. Compare to your results without entropy regularization in **Task 2.3**.\n",
    "\n",
    "Also feel free to explore different values of $\\tau$ and it's effect on the policy optimization process."
   ]
  },
  {
   "cell_type": "code",
   "execution_count": 38,
   "metadata": {
    "id": "v8teJbPaTc6D"
   },
   "outputs": [],
   "source": [
    "class A2CEntropy():\n",
    "    def __init__(self, env):\n",
    "        \"\"\"Initialization code\"\"\"\n",
    "        # Initiate both nets\n",
    "        self.actor = ActorNet(env.observation_space.shape[0],\n",
    "                              env.action_space.n)\n",
    "        self.critic = CriticNet(env.observation_space.shape[0])\n",
    "\n",
    "        # Set gamma and learning rates\n",
    "        self.gamma = 0.99          # Discount factor\n",
    "        actor_lr = 0.005            # Learning rate for the actor\n",
    "        critic_lr = 0.005           # Learning rate for the critic\n",
    "        self.entropy_coef = 0.0001   # Entropy regularization coefficient (tau)\n",
    "\n",
    "        self.env = env\n",
    "\n",
    "        # You can also experiment with different optimizers\n",
    "        self.actor_opt = torch.optim.Adam(self.actor.parameters(), lr=actor_lr)\n",
    "        self.critic_opt = torch.optim.Adam(self.critic.parameters(), lr=critic_lr)\n",
    "\n",
    "    def train(self, max_iter: int = 1000, max_episode_len: int = 500):\n",
    "\n",
    "        total_reward = []\n",
    "\n",
    "        pbar = tqdm.tqdm(range(max_iter), desc=\"Episode\")\n",
    "        for num_iter in pbar:\n",
    "            # At each iteration, we roll out an episode using current policy\n",
    "            rewards = []\n",
    "            log_probs = []\n",
    "            values = []\n",
    "            entropies = []\n",
    "\n",
    "            s, _ = self.env.reset()\n",
    "            for t in range(max_episode_len):\n",
    "                # Given current state, get action probabilities from actor\n",
    "                state = torch.tensor(s, dtype=torch.float32).unsqueeze(0)\n",
    "                probs = self.actor(state)\n",
    "                # Create the distribution as current policy\n",
    "                pi = torch.distributions.Categorical(probs)\n",
    "                # Sample one action from this policy\n",
    "                a = pi.sample()\n",
    "\n",
    "                log_prob = pi.log_prob(a)\n",
    "                entropy = pi.entropy()\n",
    "\n",
    "                value = self.critic(state)\n",
    "\n",
    "                # Interact with the environment\n",
    "                s_new, r, is_terminal, _, _ = self.env.step(a.item())\n",
    "\n",
    "                # Store data\n",
    "                rewards.append(r)\n",
    "                log_probs.append(log_prob)\n",
    "                values.append(value)\n",
    "                entropies.append(entropy)\n",
    "\n",
    "                s = s_new  # Update state\n",
    "\n",
    "                if is_terminal:\n",
    "                    break\n",
    "\n",
    "            # Store total_reward\n",
    "            total_reward.append(sum(rewards))\n",
    "\n",
    "            mean_reward = sum(total_reward[-100:]) / min(len(total_reward), 100)\n",
    "\n",
    "            # Convert lists to tensors\n",
    "            log_probs = torch.stack(log_probs)\n",
    "            values = torch.stack(values).squeeze()\n",
    "            entropies = torch.stack(entropies)  # Convert entropies to tensor\n",
    "\n",
    "            # Now compute average entropy\n",
    "            avg_entropy = entropies.mean().item()\n",
    "\n",
    "            pbar.set_postfix_str(f\"Last reward: {total_reward[-1]}, Avg Entropy: {avg_entropy:.4f}, Mean last 100 episodes: {mean_reward:.2f}\")\n",
    "\n",
    "            # Compute returns and advantages\n",
    "            returns = []\n",
    "            R = 0\n",
    "            for r in reversed(rewards):\n",
    "                R = r + self.gamma * R\n",
    "                returns.insert(0, R)\n",
    "            returns = torch.tensor(returns, dtype=torch.float32)\n",
    "\n",
    "            # Compute advantages\n",
    "            advantages = returns - values.detach()\n",
    "\n",
    "            # Compute actor loss (policy gradient with baseline and entropy regularization)\n",
    "            actor_loss = - (log_probs * advantages).mean() - self.entropy_coef * entropies.mean()\n",
    "\n",
    "            # Compute critic loss (value function approximation)\n",
    "            critic_loss = F.mse_loss(values, returns)\n",
    "\n",
    "            # Update actor network\n",
    "            self.actor_opt.zero_grad()\n",
    "            actor_loss.backward()\n",
    "            self.actor_opt.step()\n",
    "\n",
    "            # Update critic network\n",
    "            self.critic_opt.zero_grad()\n",
    "            critic_loss.backward()\n",
    "            self.critic_opt.step()\n",
    "\n",
    "        self.env.close()\n",
    "\n",
    "        return total_reward"
   ]
  },
  {
   "cell_type": "code",
   "execution_count": 39,
   "metadata": {
    "colab": {
     "base_uri": "https://localhost:8080/"
    },
    "id": "IV38ImSQTc6D",
    "outputId": "6f24259d-91a0-4de3-9f52-bb32e961dca2"
   },
   "outputs": [
    {
     "name": "stderr",
     "output_type": "stream",
     "text": [
      "Episode: 100%|█| 1000/1000 [06:14<00:00,  2.67it/s, Last reward: 500.0, Avg Entropy: 0.4996, Mean last 100 episodes: 50\n"
     ]
    }
   ],
   "source": [
    "# TODO: Run your implementation here.\n",
    "max_iter_entropy = 1000\n",
    "max_episode_len_entropy = 500\n",
    "\n",
    "a2c_entropy = A2CEntropy(env)\n",
    "\n",
    "total_reward_entropy = a2c_entropy.train(max_iter_entropy, max_episode_len_entropy)"
   ]
  },
  {
   "cell_type": "code",
   "execution_count": 40,
   "metadata": {
    "colab": {
     "base_uri": "https://localhost:8080/",
     "height": 447
    },
    "id": "Fu9xMFP0Tc6D",
    "outputId": "c6b751bd-c76b-419d-e4e2-d248a7faff3c"
   },
   "outputs": [
    {
     "name": "stdout",
     "output_type": "stream",
     "text": [
      "Successfully solve the problem in 497 iterations.\n"
     ]
    },
    {
     "data": {
      "image/png": "[encoded data removed]",
      "text/plain": [
       "<Figure size 432x288 with 1 Axes>"
      ]
     },
     "metadata": {
      "needs_background": "light"
     },
     "output_type": "display_data"
    }
   ],
   "source": [
    "# this code should print success\n",
    "success_flag = False\n",
    "buffer_len = 100\n",
    "buffer_sum = sum(total_reward_entropy[:buffer_len])\n",
    "avg_reward = [buffer_sum / buffer_len]\n",
    "\n",
    "for num_iter in range(buffer_len, max_iter):\n",
    "    buffer_sum += total_reward_entropy[num_iter]\n",
    "    buffer_sum -= total_reward_entropy[num_iter - buffer_len]\n",
    "    buffer_avg = buffer_sum / buffer_len\n",
    "    avg_reward.append(buffer_avg)\n",
    "\n",
    "    if buffer_avg >= env.spec.reward_threshold and not success_flag:\n",
    "        print('Successfully solve the problem in {} iterations.'.format(num_iter + 1))\n",
    "        success_flag = True\n",
    "\n",
    "if not success_flag:\n",
    "    print('Unfortunately the agent is not smart enough.')\n",
    "\n",
    "# plot the average reward curve through the training process\n",
    "plt.plot(range(buffer_len-1, len(total_reward_entropy)), avg_reward)\n",
    "plt.show()"
   ]
  },
  {
   "cell_type": "code",
   "execution_count": 41,
   "metadata": {
    "colab": {
     "base_uri": "https://localhost:8080/",
     "height": 564
    },
    "id": "t-qWgi_FTc6D",
    "outputId": "3c90172b-de18-429d-8713-a641267ba481"
   },
   "outputs": [
    {
     "data": {
      "image/png": "[encoded data removed]",
      "text/plain": [
       "<Figure size 864x432 with 1 Axes>"
      ]
     },
     "metadata": {
      "needs_background": "light"
     },
     "output_type": "display_data"
    }
   ],
   "source": [
    "# TODO: Visualize your results and compare it to the results without entropy in Task 2.3\n",
    "import numpy as np\n",
    "\n",
    "def moving_average(data, window_size):\n",
    "    return np.convolve(data, np.ones(window_size)/window_size, mode='valid')\n",
    "\n",
    "# Define the window size for the moving average\n",
    "window_size = 50\n",
    "\n",
    "# Compute the moving averages\n",
    "smoothed_total_reward = moving_average(total_reward, window_size)\n",
    "smoothed_total_reward_entropy = moving_average(total_reward_entropy, window_size)\n",
    "\n",
    "# Adjust the x-axis to match the length of the smoothed data\n",
    "episodes = np.arange(window_size - 1, len(total_reward))\n",
    "\n",
    "# Plotting the smoothed results\n",
    "plt.figure(figsize=(12, 6))\n",
    "\n",
    "# Plot smoothed total rewards for the A2C agent without entropy regularization\n",
    "plt.plot(episodes, smoothed_total_reward, label='A2C without Entropy Regularization')\n",
    "\n",
    "# Plot smoothed total rewards for the A2C agent with entropy regularization\n",
    "plt.plot(episodes, smoothed_total_reward_entropy, label='A2C with Entropy Regularization')\n",
    "\n",
    "# Adding labels and title\n",
    "plt.xlabel('Episode')\n",
    "plt.ylabel('Total Reward (Smoothed)')\n",
    "plt.title('Smoothed Comparison of A2C Training Performance on CartPole-v1')\n",
    "\n",
    "# Adding legend\n",
    "plt.legend()\n",
    "\n",
    "# Display the plot\n",
    "plt.grid(True)\n",
    "plt.show()\n"
   ]
  },
  {
   "cell_type": "code",
   "execution_count": null,
   "metadata": {},
   "outputs": [],
   "source": []
  }
 ],
 "metadata": {
  "colab": {
   "provenance": []
  },
  "kernelspec": {
   "display_name": "Python 3",
   "language": "python",
   "name": "python3"
  },
  "language_info": {
   "codemirror_mode": {
    "name": "ipython",
    "version": 3
   },
   "file_extension": ".py",
   "mimetype": "text/x-python",
   "name": "python",
   "nbconvert_exporter": "python",
   "pygments_lexer": "ipython3",
   "version": "3.9.2"
  }
 },
 "nbformat": 4,
 "nbformat_minor": 1
}
